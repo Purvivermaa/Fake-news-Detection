{
 "cells": [
  {
   "cell_type": "code",
   "execution_count": 1,
   "metadata": {
    "colab": {
     "base_uri": "https://localhost:8080/"
    },
    "id": "mZaaBbtt9077",
    "outputId": "99775562-396a-4856-9e37-84e1582a6536"
   },
   "outputs": [
    {
     "name": "stdout",
     "output_type": "stream",
     "text": [
      "Drive already mounted at /content/drive; to attempt to forcibly remount, call drive.mount(\"/content/drive\", force_remount=True).\n"
     ]
    }
   ],
   "source": [
    "from google.colab import drive\n",
    "drive.mount('/content/drive')"
   ]
  },
  {
   "cell_type": "code",
   "execution_count": 2,
   "metadata": {
    "id": "fBcgNWhI-A1T"
   },
   "outputs": [],
   "source": [
    "import numpy as np\n",
    "import matplotlib.pyplot as plt\n",
    "from sklearn.metrics import accuracy_score"
   ]
  },
  {
   "cell_type": "code",
   "execution_count": 3,
   "metadata": {
    "colab": {
     "base_uri": "https://localhost:8080/"
    },
    "id": "cuPKT2juAvC0",
    "outputId": "670a0ce3-7e57-40ce-f22e-dcb20a7dcb15"
   },
   "outputs": [
    {
     "name": "stdout",
     "output_type": "stream",
     "text": [
      "                                                   Title   Len  \\\n",
      "0      Psa: ben stiller speaks out against shaken man...   132   \n",
      "1      States take back hundreds of thousands of vacc...  7449   \n",
      "2      On the brink: 16 hours til shutdown – cnn poll...  1357   \n",
      "3      The us is getting a third coronavirus vaccine....  7855   \n",
      "4      Coronavirus variant will likely drive a new wa...  3017   \n",
      "...                                                  ...   ...   \n",
      "14860  Cops, firefighters challenge gainesville's 'od...   446   \n",
      "14861  De blasio dodges on high school admissions tes...  3177   \n",
      "14862  Defense dept. issues covid \"vaccination record...   255   \n",
      "14863  Alaska: cheating husband emasculated after wif...   986   \n",
      "14864  Woman who drinks 6 cups of coffee per day tryi...   914   \n",
      "\n",
      "                                                 Content  \\\n",
      "0      Actor ben stiller urges parents with adult kid...   \n",
      "1      Hundreds of thousands of covid-19 vaccine dose...   \n",
      "2      a veteran of the shutdown battles of the mid-1...   \n",
      "3      The united states is getting a third coronavir...   \n",
      "4      we now are aiming to deliver a second hundred ...   \n",
      "...                                                  ...   \n",
      "14860  Seldon childers of childers law for the city: ...   \n",
      "14861  Brooklyn latin school, staten island technical...   \n",
      "14862  Tim young  december 3, 2020 the frontrunning v...   \n",
      "14863  Rosetta white, 36, was arrested this week afte...   \n",
      "14864  Saying she would stop looking at her phone and...   \n",
      "\n",
      "                                                  Source Publishing Date  \\\n",
      "0      https://www.theonion.com/psa-ben-stiller-speak...      2011-03-16   \n",
      "1      https://www.cnn.com/2021/02/03/health/states-t...      2021-02-04   \n",
      "2      https://www.politico.com/tipsheets/huddle/2013...      2013-09-30   \n",
      "3      https://www.cnn.com/2021/02/27/health/johnson-...      2021-02-28   \n",
      "4      https://www.cnn.com/2021/02/23/health/us-coron...      2021-02-23   \n",
      "...                                                  ...             ...   \n",
      "14860  https://www.reuters.com/legal/government/cops-...      2021-08-28   \n",
      "14861  https://www.politico.com/newsletters/new-york-...      2018-03-16   \n",
      "14862  https://conservativedailypost.com/defense-dept...      2020-12-05   \n",
      "14863  https://worldnewsdailyreport.com/alaska-cheati...      2019-06-15   \n",
      "14864  https://www.theonion.com/woman-who-drinks-6-cu...      2017-04-04   \n",
      "\n",
      "       Label  \n",
      "0          1  \n",
      "1          0  \n",
      "2          0  \n",
      "3          0  \n",
      "4          0  \n",
      "...      ...  \n",
      "14860      0  \n",
      "14861      0  \n",
      "14862      1  \n",
      "14863      1  \n",
      "14864      1  \n",
      "\n",
      "[14865 rows x 6 columns]\n"
     ]
    }
   ],
   "source": [
    "# import pandas lib as pd\n",
    "import pandas as pd\n",
    " \n",
    "# read by default 1st sheet of an excel file\n",
    "df = pd.read_excel('/content/drive/MyDrive/Colab Notebooks/Testing FNH dataset/RandomOverSampler.xlsx', 'Sheet1')\n",
    " \n",
    "print(df)\n",
    "df = df.fillna(' ')\n",
    "#df.dropna(inplace = True)\n",
    "df.count()\n",
    "input_array=np.array(df['Content'])"
   ]
  },
  {
   "cell_type": "code",
   "execution_count": 4,
   "metadata": {
    "colab": {
     "base_uri": "https://localhost:8080/"
    },
    "id": "48kuVAiF8_9g",
    "outputId": "f5e17a27-a9aa-4997-e56b-b12b0e0a5ce4"
   },
   "outputs": [
    {
     "name": "stderr",
     "output_type": "stream",
     "text": [
      "[nltk_data] Downloading package stopwords to /root/nltk_data...\n",
      "[nltk_data]   Package stopwords is already up-to-date!\n"
     ]
    },
    {
     "data": {
      "text/plain": [
       "True"
      ]
     },
     "execution_count": 4,
     "metadata": {},
     "output_type": "execute_result"
    }
   ],
   "source": [
    "import nltk\n",
    "nltk.download('stopwords')"
   ]
  },
  {
   "cell_type": "code",
   "execution_count": 5,
   "metadata": {
    "id": "0Ea27afaA-yk"
   },
   "outputs": [],
   "source": [
    "import re\n",
    "import nltk\n",
    "#nltk.download('stopwords')\n",
    "from nltk.corpus import stopwords\n",
    "from nltk.stem.porter import PorterStemmer\n",
    "corpus = []\n",
    "for i in range(0, 14865):\n",
    "    review = re.sub('[^a-zA-Z]', ' ', input_array[i])\n",
    "    review = review.lower()\n",
    "    review = review.split()\n",
    "    ps = PorterStemmer()\n",
    "    review = [ps.stem(word) for word in review if not word in set(stopwords.words('english'))]\n",
    "    review = ' '.join(review)\n",
    "    corpus.append(review)"
   ]
  },
  {
   "cell_type": "code",
   "execution_count": 6,
   "metadata": {
    "id": "TqLk7VmxJDuU"
   },
   "outputs": [],
   "source": [
    "column = ['Len', 'Source','Title']\n",
    "df = df.drop(columns=column)"
   ]
  },
  {
   "cell_type": "code",
   "execution_count": 7,
   "metadata": {
    "colab": {
     "base_uri": "https://localhost:8080/",
     "height": 423
    },
    "id": "O5ML5jxaOvw3",
    "outputId": "a59aa11a-d6cd-4a37-f6e0-914d96613ee8"
   },
   "outputs": [
    {
     "data": {
      "text/html": [
       "\n",
       "  <div id=\"df-7539f22f-3447-4490-a8eb-66aaa18d15a0\">\n",
       "    <div class=\"colab-df-container\">\n",
       "      <div>\n",
       "<style scoped>\n",
       "    .dataframe tbody tr th:only-of-type {\n",
       "        vertical-align: middle;\n",
       "    }\n",
       "\n",
       "    .dataframe tbody tr th {\n",
       "        vertical-align: top;\n",
       "    }\n",
       "\n",
       "    .dataframe thead th {\n",
       "        text-align: right;\n",
       "    }\n",
       "</style>\n",
       "<table border=\"1\" class=\"dataframe\">\n",
       "  <thead>\n",
       "    <tr style=\"text-align: right;\">\n",
       "      <th></th>\n",
       "      <th>Content</th>\n",
       "      <th>Publishing Date</th>\n",
       "      <th>Label</th>\n",
       "    </tr>\n",
       "  </thead>\n",
       "  <tbody>\n",
       "    <tr>\n",
       "      <th>0</th>\n",
       "      <td>Actor ben stiller urges parents with adult kid...</td>\n",
       "      <td>2011-03-16</td>\n",
       "      <td>1</td>\n",
       "    </tr>\n",
       "    <tr>\n",
       "      <th>1</th>\n",
       "      <td>Hundreds of thousands of covid-19 vaccine dose...</td>\n",
       "      <td>2021-02-04</td>\n",
       "      <td>0</td>\n",
       "    </tr>\n",
       "    <tr>\n",
       "      <th>2</th>\n",
       "      <td>a veteran of the shutdown battles of the mid-1...</td>\n",
       "      <td>2013-09-30</td>\n",
       "      <td>0</td>\n",
       "    </tr>\n",
       "    <tr>\n",
       "      <th>3</th>\n",
       "      <td>The united states is getting a third coronavir...</td>\n",
       "      <td>2021-02-28</td>\n",
       "      <td>0</td>\n",
       "    </tr>\n",
       "    <tr>\n",
       "      <th>4</th>\n",
       "      <td>we now are aiming to deliver a second hundred ...</td>\n",
       "      <td>2021-02-23</td>\n",
       "      <td>0</td>\n",
       "    </tr>\n",
       "    <tr>\n",
       "      <th>...</th>\n",
       "      <td>...</td>\n",
       "      <td>...</td>\n",
       "      <td>...</td>\n",
       "    </tr>\n",
       "    <tr>\n",
       "      <th>14860</th>\n",
       "      <td>Seldon childers of childers law for the city: ...</td>\n",
       "      <td>2021-08-28</td>\n",
       "      <td>0</td>\n",
       "    </tr>\n",
       "    <tr>\n",
       "      <th>14861</th>\n",
       "      <td>Brooklyn latin school, staten island technical...</td>\n",
       "      <td>2018-03-16</td>\n",
       "      <td>0</td>\n",
       "    </tr>\n",
       "    <tr>\n",
       "      <th>14862</th>\n",
       "      <td>Tim young  december 3, 2020 the frontrunning v...</td>\n",
       "      <td>2020-12-05</td>\n",
       "      <td>1</td>\n",
       "    </tr>\n",
       "    <tr>\n",
       "      <th>14863</th>\n",
       "      <td>Rosetta white, 36, was arrested this week afte...</td>\n",
       "      <td>2019-06-15</td>\n",
       "      <td>1</td>\n",
       "    </tr>\n",
       "    <tr>\n",
       "      <th>14864</th>\n",
       "      <td>Saying she would stop looking at her phone and...</td>\n",
       "      <td>2017-04-04</td>\n",
       "      <td>1</td>\n",
       "    </tr>\n",
       "  </tbody>\n",
       "</table>\n",
       "<p>14865 rows × 3 columns</p>\n",
       "</div>\n",
       "      <button class=\"colab-df-convert\" onclick=\"convertToInteractive('df-7539f22f-3447-4490-a8eb-66aaa18d15a0')\"\n",
       "              title=\"Convert this dataframe to an interactive table.\"\n",
       "              style=\"display:none;\">\n",
       "        \n",
       "  <svg xmlns=\"http://www.w3.org/2000/svg\" height=\"24px\"viewBox=\"0 0 24 24\"\n",
       "       width=\"24px\">\n",
       "    <path d=\"M0 0h24v24H0V0z\" fill=\"none\"/>\n",
       "    <path d=\"M18.56 5.44l.94 2.06.94-2.06 2.06-.94-2.06-.94-.94-2.06-.94 2.06-2.06.94zm-11 1L8.5 8.5l.94-2.06 2.06-.94-2.06-.94L8.5 2.5l-.94 2.06-2.06.94zm10 10l.94 2.06.94-2.06 2.06-.94-2.06-.94-.94-2.06-.94 2.06-2.06.94z\"/><path d=\"M17.41 7.96l-1.37-1.37c-.4-.4-.92-.59-1.43-.59-.52 0-1.04.2-1.43.59L10.3 9.45l-7.72 7.72c-.78.78-.78 2.05 0 2.83L4 21.41c.39.39.9.59 1.41.59.51 0 1.02-.2 1.41-.59l7.78-7.78 2.81-2.81c.8-.78.8-2.07 0-2.86zM5.41 20L4 18.59l7.72-7.72 1.47 1.35L5.41 20z\"/>\n",
       "  </svg>\n",
       "      </button>\n",
       "      \n",
       "  <style>\n",
       "    .colab-df-container {\n",
       "      display:flex;\n",
       "      flex-wrap:wrap;\n",
       "      gap: 12px;\n",
       "    }\n",
       "\n",
       "    .colab-df-convert {\n",
       "      background-color: #E8F0FE;\n",
       "      border: none;\n",
       "      border-radius: 50%;\n",
       "      cursor: pointer;\n",
       "      display: none;\n",
       "      fill: #1967D2;\n",
       "      height: 32px;\n",
       "      padding: 0 0 0 0;\n",
       "      width: 32px;\n",
       "    }\n",
       "\n",
       "    .colab-df-convert:hover {\n",
       "      background-color: #E2EBFA;\n",
       "      box-shadow: 0px 1px 2px rgba(60, 64, 67, 0.3), 0px 1px 3px 1px rgba(60, 64, 67, 0.15);\n",
       "      fill: #174EA6;\n",
       "    }\n",
       "\n",
       "    [theme=dark] .colab-df-convert {\n",
       "      background-color: #3B4455;\n",
       "      fill: #D2E3FC;\n",
       "    }\n",
       "\n",
       "    [theme=dark] .colab-df-convert:hover {\n",
       "      background-color: #434B5C;\n",
       "      box-shadow: 0px 1px 3px 1px rgba(0, 0, 0, 0.15);\n",
       "      filter: drop-shadow(0px 1px 2px rgba(0, 0, 0, 0.3));\n",
       "      fill: #FFFFFF;\n",
       "    }\n",
       "  </style>\n",
       "\n",
       "      <script>\n",
       "        const buttonEl =\n",
       "          document.querySelector('#df-7539f22f-3447-4490-a8eb-66aaa18d15a0 button.colab-df-convert');\n",
       "        buttonEl.style.display =\n",
       "          google.colab.kernel.accessAllowed ? 'block' : 'none';\n",
       "\n",
       "        async function convertToInteractive(key) {\n",
       "          const element = document.querySelector('#df-7539f22f-3447-4490-a8eb-66aaa18d15a0');\n",
       "          const dataTable =\n",
       "            await google.colab.kernel.invokeFunction('convertToInteractive',\n",
       "                                                     [key], {});\n",
       "          if (!dataTable) return;\n",
       "\n",
       "          const docLinkHtml = 'Like what you see? Visit the ' +\n",
       "            '<a target=\"_blank\" href=https://colab.research.google.com/notebooks/data_table.ipynb>data table notebook</a>'\n",
       "            + ' to learn more about interactive tables.';\n",
       "          element.innerHTML = '';\n",
       "          dataTable['output_type'] = 'display_data';\n",
       "          await google.colab.output.renderOutput(dataTable, element);\n",
       "          const docLink = document.createElement('div');\n",
       "          docLink.innerHTML = docLinkHtml;\n",
       "          element.appendChild(docLink);\n",
       "        }\n",
       "      </script>\n",
       "    </div>\n",
       "  </div>\n",
       "  "
      ],
      "text/plain": [
       "                                                 Content Publishing Date  \\\n",
       "0      Actor ben stiller urges parents with adult kid...      2011-03-16   \n",
       "1      Hundreds of thousands of covid-19 vaccine dose...      2021-02-04   \n",
       "2      a veteran of the shutdown battles of the mid-1...      2013-09-30   \n",
       "3      The united states is getting a third coronavir...      2021-02-28   \n",
       "4      we now are aiming to deliver a second hundred ...      2021-02-23   \n",
       "...                                                  ...             ...   \n",
       "14860  Seldon childers of childers law for the city: ...      2021-08-28   \n",
       "14861  Brooklyn latin school, staten island technical...      2018-03-16   \n",
       "14862  Tim young  december 3, 2020 the frontrunning v...      2020-12-05   \n",
       "14863  Rosetta white, 36, was arrested this week afte...      2019-06-15   \n",
       "14864  Saying she would stop looking at her phone and...      2017-04-04   \n",
       "\n",
       "       Label  \n",
       "0          1  \n",
       "1          0  \n",
       "2          0  \n",
       "3          0  \n",
       "4          0  \n",
       "...      ...  \n",
       "14860      0  \n",
       "14861      0  \n",
       "14862      1  \n",
       "14863      1  \n",
       "14864      1  \n",
       "\n",
       "[14865 rows x 3 columns]"
      ]
     },
     "execution_count": 7,
     "metadata": {},
     "output_type": "execute_result"
    }
   ],
   "source": [
    "df\n"
   ]
  },
  {
   "cell_type": "code",
   "execution_count": 8,
   "metadata": {
    "colab": {
     "base_uri": "https://localhost:8080/"
    },
    "id": "yiWVf5rTBwiV",
    "outputId": "e4b20b35-305b-4416-d10f-7094f56a744b"
   },
   "outputs": [
    {
     "name": "stdout",
     "output_type": "stream",
     "text": [
      "14865\n",
      "14865\n"
     ]
    }
   ],
   "source": [
    "from sklearn.feature_extraction.text import CountVectorizer\n",
    "cv = CountVectorizer(max_features = 15000)\n",
    "X = cv.fit_transform(corpus).toarray()\n",
    "y = df.iloc[0:14865, 2].values\n",
    "\n",
    "print(len(X))\n",
    "print(len(y))"
   ]
  },
  {
   "cell_type": "code",
   "execution_count": 9,
   "metadata": {
    "colab": {
     "base_uri": "https://localhost:8080/"
    },
    "id": "dbOKGKWdVY4k",
    "outputId": "b3c800a6-de34-4060-8a69-ceebcc3327e5"
   },
   "outputs": [
    {
     "name": "stdout",
     "output_type": "stream",
     "text": [
      "[1 0 0 ... 1 1 1]\n"
     ]
    }
   ],
   "source": [
    "print(y)"
   ]
  },
  {
   "cell_type": "code",
   "execution_count": 10,
   "metadata": {
    "colab": {
     "base_uri": "https://localhost:8080/"
    },
    "id": "LvPX5kIkBfNe",
    "outputId": "f1abab5d-10b1-456a-cb20-22351f5c61ce"
   },
   "outputs": [
    {
     "name": "stdout",
     "output_type": "stream",
     "text": [
      "[1 0 0 ... 1 1 1] \n",
      " [[0 0 0 ... 0 0 0]\n",
      " [0 0 0 ... 0 0 0]\n",
      " [0 0 0 ... 0 0 0]\n",
      " ...\n",
      " [0 0 0 ... 0 0 0]\n",
      " [0 0 0 ... 0 0 0]\n",
      " [0 0 0 ... 0 0 0]]\n"
     ]
    }
   ],
   "source": [
    "# Spliting data - withom random shuffle\n",
    "from sklearn.model_selection import train_test_split\n",
    "X_train, X_test, y_train, y_test = train_test_split(X, y, test_size = 0.20, random_state = 0)\n",
    "print(y_test,\"\\n\",X_test)"
   ]
  },
  {
   "cell_type": "markdown",
   "metadata": {
    "id": "ai7CQvEGJ2JS"
   },
   "source": [
    "**Decision Tree**"
   ]
  },
  {
   "cell_type": "code",
   "execution_count": 11,
   "metadata": {
    "colab": {
     "base_uri": "https://localhost:8080/"
    },
    "id": "jmnaVMMpBgdz",
    "outputId": "86eaf4ac-3318-45bc-c9b8-b19d9913bddb"
   },
   "outputs": [
    {
     "name": "stdout",
     "output_type": "stream",
     "text": [
      "[[1346  185]\n",
      " [   8 1434]]\n"
     ]
    }
   ],
   "source": [
    "from sklearn.tree import DecisionTreeClassifier\n",
    "classifier2 = DecisionTreeClassifier(criterion = 'entropy', random_state = 0)\n",
    "classifier2.fit(X_train, y_train)\n",
    "\n",
    "# Predicting the Test set results\n",
    "y_predD = classifier2.predict(X_test)\n",
    "\n",
    "# Making the Confusion Matrix\n",
    "from sklearn.metrics import confusion_matrix\n",
    "cm2 = confusion_matrix(y_test, y_predD)\n",
    "\n",
    "print(cm2)"
   ]
  },
  {
   "cell_type": "code",
   "execution_count": 12,
   "metadata": {
    "colab": {
     "base_uri": "https://localhost:8080/"
    },
    "id": "dF-ojoq23z1X",
    "outputId": "d0e51bcd-6cef-4ce7-fccb-f401e186fb3b"
   },
   "outputs": [
    {
     "name": "stdout",
     "output_type": "stream",
     "text": [
      "Accuracy of Traditional Model - Decision Tree = 0.9350824083417424\n",
      "Precision of Model - Decision Tree = 0.8857319332921556\n",
      "Sensitivity_recall of Model - Decision Tree = 0.9944521497919556\n",
      "Specificity of Model - Decision Tree = 0.8791639451338994\n",
      "F1_score of Model - Decision Tree = 0.9369487095720354\n"
     ]
    }
   ],
   "source": [
    "# Precision, recall, accuracy score and F1 score\n",
    "\n",
    "from sklearn import metrics\n",
    "Accuracy_D = metrics.accuracy_score(y_test, y_predD)\n",
    "Precision_D = metrics.precision_score(y_test, y_predD)\n",
    "Sensitivity_recall_D = metrics.recall_score(y_test, y_predD)\n",
    "Specificity_D = metrics.recall_score(y_test, y_predD, pos_label=0)\n",
    "F1_score_D = metrics.f1_score(y_test, y_predD)\n",
    "\n",
    "print(\"Accuracy of Traditional Model - Decision Tree =\", Accuracy_D)\n",
    "print(\"Precision of Model - Decision Tree =\", Precision_D)\n",
    "print(\"Sensitivity_recall of Model - Decision Tree =\", Sensitivity_recall_D)\n",
    "print(\"Specificity of Model - Decision Tree =\", Specificity_D)\n",
    "print(\"F1_score of Model - Decision Tree =\", F1_score_D)\n"
   ]
  },
  {
   "cell_type": "markdown",
   "metadata": {
    "id": "_05exG5VJ9F2"
   },
   "source": [
    "**Random Forest**"
   ]
  },
  {
   "cell_type": "code",
   "execution_count": 14,
   "metadata": {
    "colab": {
     "base_uri": "https://localhost:8080/"
    },
    "id": "d1n_NX9wKDmA",
    "outputId": "a6dc40e4-876f-4fe6-d188-ecf5ea4f4a3e"
   },
   "outputs": [
    {
     "name": "stdout",
     "output_type": "stream",
     "text": [
      "[[1468   63]\n",
      " [  25 1417]]\n"
     ]
    }
   ],
   "source": [
    "from sklearn.ensemble import RandomForestClassifier\n",
    "classifier3 = RandomForestClassifier(n_estimators = 10, criterion = 'entropy', random_state = 0)\n",
    "classifier3.fit(X_train, y_train)\n",
    "\n",
    "# Predicting the Test set results\n",
    "y_predR = classifier3.predict(X_test)\n",
    "\n",
    "# Making the Confusion Matrix\n",
    "from sklearn.metrics import confusion_matrix\n",
    "cm3 = confusion_matrix(y_test, y_predR)\n",
    "\n",
    "\n",
    "print(cm3)"
   ]
  },
  {
   "cell_type": "code",
   "execution_count": 15,
   "metadata": {
    "colab": {
     "base_uri": "https://localhost:8080/"
    },
    "id": "3M5QS7mo4RZg",
    "outputId": "8161a1b9-134a-4546-e4ae-21525657a3f3"
   },
   "outputs": [
    {
     "name": "stdout",
     "output_type": "stream",
     "text": [
      "Accuracy of Model - Random Forest = 0.9704002690884629\n",
      "Precision of Model - Random Forest = 0.9574324324324325\n",
      "Sensitivity_recall of Model - Random Forest = 0.9826629680998613\n",
      "Specificity of Model - Random Forest = 0.9588504245591117\n",
      "F1_score of Model - Random Forest = 0.9698836413415469\n"
     ]
    }
   ],
   "source": [
    "# Precision, recall, accuracy score and F1 score\n",
    "\n",
    "from sklearn import metrics\n",
    "Accuracy_R = metrics.accuracy_score(y_test, y_predR)\n",
    "Precision_R = metrics.precision_score(y_test, y_predR)\n",
    "Sensitivity_recall_R = metrics.recall_score(y_test, y_predR)\n",
    "Specificity_R = metrics.recall_score(y_test, y_predR, pos_label=0)\n",
    "F1_score_R = metrics.f1_score(y_test, y_predR)\n",
    "\n",
    "print(\"Accuracy of Model - Random Forest =\", Accuracy_R)\n",
    "print(\"Precision of Model - Random Forest =\", Precision_R)\n",
    "print(\"Sensitivity_recall of Model - Random Forest =\", Sensitivity_recall_R)\n",
    "print(\"Specificity of Model - Random Forest =\", Specificity_R)\n",
    "print(\"F1_score of Model - Random Forest =\", F1_score_R)"
   ]
  },
  {
   "cell_type": "markdown",
   "metadata": {
    "id": "TA9GEWhuKF5m"
   },
   "source": [
    "**SVM**"
   ]
  },
  {
   "cell_type": "code",
   "execution_count": 17,
   "metadata": {
    "colab": {
     "base_uri": "https://localhost:8080/"
    },
    "id": "_d_cMVpdKJYP",
    "outputId": "af365d68-e6e4-4b68-d7bf-63fb9bee2144"
   },
   "outputs": [
    {
     "name": "stdout",
     "output_type": "stream",
     "text": [
      "[[1386  145]\n",
      " [   4 1438]]\n"
     ]
    }
   ],
   "source": [
    "from sklearn.svm import SVC\n",
    "classifier = SVC(kernel = 'linear', random_state = 0)\n",
    "classifier.fit(X_train, y_train)\n",
    "\n",
    "# Predicting the Test set results\n",
    "y_predSVM = classifier.predict(X_test)\n",
    "\n",
    "# Making the Confusion Matrix\n",
    "from sklearn.metrics import confusion_matrix\n",
    "cm5 = confusion_matrix(y_test, y_predSVM)\n",
    "\n",
    "print(cm5)"
   ]
  },
  {
   "cell_type": "code",
   "execution_count": 18,
   "metadata": {
    "colab": {
     "base_uri": "https://localhost:8080/"
    },
    "id": "3VLi5-pQ4lKw",
    "outputId": "76f2ff3f-fdb2-49bd-fae4-8f7b038b69c8"
   },
   "outputs": [
    {
     "name": "stdout",
     "output_type": "stream",
     "text": [
      "Accuracy of Model - SVM = 0.9498822737975109\n",
      "Precision of Model - SVM = 0.9084017687934302\n",
      "Sensitivity_recall of Model - SVM = 0.9972260748959778\n",
      "Specificity of Model - SVM = 0.9052906596995428\n",
      "F1_score of Model - SVM = 0.9507438016528925\n"
     ]
    }
   ],
   "source": [
    "# Precision, recall, accuracy score and F1 score\n",
    "\n",
    "from sklearn import metrics\n",
    "Accuracy_SVM = metrics.accuracy_score(y_test, y_predSVM)\n",
    "Precision_SVM = metrics.precision_score(y_test, y_predSVM)\n",
    "Sensitivity_recall_SVM = metrics.recall_score(y_test, y_predSVM)\n",
    "Specificity_SVM = metrics.recall_score(y_test, y_predSVM, pos_label=0)\n",
    "F1_score_SVM = metrics.f1_score(y_test, y_predSVM)\n",
    "\n",
    "print(\"Accuracy of Model - SVM =\", Accuracy_SVM)\n",
    "print(\"Precision of Model - SVM =\", Precision_SVM)\n",
    "print(\"Sensitivity_recall of Model - SVM =\", Sensitivity_recall_SVM)\n",
    "print(\"Specificity of Model - SVM =\", Specificity_SVM)\n",
    "print(\"F1_score of Model - SVM =\", F1_score_SVM)"
   ]
  },
  {
   "cell_type": "markdown",
   "metadata": {
    "id": "hfsjxOiBJgr1"
   },
   "source": [
    "**Ada Boost with Decision Tree**"
   ]
  },
  {
   "cell_type": "code",
   "execution_count": 19,
   "metadata": {
    "id": "a9CIuaooJchF"
   },
   "outputs": [],
   "source": [
    "from sklearn.ensemble import AdaBoostClassifier\n",
    "\n",
    "adaboost_clf_D = AdaBoostClassifier(\n",
    "    DecisionTreeClassifier(max_depth=1), n_estimators=200,\n",
    "    algorithm=\"SAMME.R\", learning_rate=0.5, random_state=42)\n",
    "adaboost_clf_D.fit(X_train, y_train)\n",
    "\n",
    "\n",
    "y_predAD = adaboost_clf_D.predict(X_test)"
   ]
  },
  {
   "cell_type": "code",
   "execution_count": 20,
   "metadata": {
    "colab": {
     "base_uri": "https://localhost:8080/"
    },
    "id": "oEAlnnSV4y_a",
    "outputId": "25a4cff9-9f02-4852-97a1-47016359d70c"
   },
   "outputs": [
    {
     "name": "stdout",
     "output_type": "stream",
     "text": [
      "Accuracy of Model - Ada Boost = 0.87924655230407\n",
      "Precision of Model - Ada Boost = 0.8403519798868636\n",
      "Sensitivity_recall of Model - Ada Boost = 0.9271844660194175\n",
      "Specificity of Model - Ada Boost = 0.8340953625081646\n",
      "F1_score of Model - Ada Boost = 0.8816353445433566\n"
     ]
    }
   ],
   "source": [
    "# Precision, recall, accuracy score and F1 score\n",
    "\n",
    "from sklearn import metrics\n",
    "Accuracy_AD = metrics.accuracy_score(y_test, y_predAD)\n",
    "Precision_AD = metrics.precision_score(y_test, y_predAD)\n",
    "Sensitivity_recall_AD = metrics.recall_score(y_test, y_predAD)\n",
    "Specificity_AD = metrics.recall_score(y_test, y_predAD, pos_label=0)\n",
    "F1_score_AD = metrics.f1_score(y_test, y_predAD)\n",
    "\n",
    "print(\"Accuracy of Model - Ada Boost =\", Accuracy_AD)\n",
    "print(\"Precision of Model - Ada Boost =\", Precision_AD)\n",
    "print(\"Sensitivity_recall of Model - Ada Boost =\", Sensitivity_recall_AD)\n",
    "print(\"Specificity of Model - Ada Boost =\", Specificity_AD)\n",
    "print(\"F1_score of Model - Ada Boost =\", F1_score_AD)"
   ]
  },
  {
   "cell_type": "markdown",
   "metadata": {
    "id": "1-KTtixqNvMF"
   },
   "source": [
    "**Ada Boost with Random forest**"
   ]
  },
  {
   "cell_type": "code",
   "execution_count": 22,
   "metadata": {
    "id": "gvWzX8VnNbgZ"
   },
   "outputs": [],
   "source": [
    "adaboost_clf_RF = AdaBoostClassifier(\n",
    "    RandomForestClassifier(n_estimators = 10, criterion = 'entropy', random_state = 0))\n",
    "adaboost_clf_RF.fit(X_train, y_train)\n",
    "\n",
    "y_predAR = adaboost_clf_RF.predict(X_test)"
   ]
  },
  {
   "cell_type": "code",
   "execution_count": 23,
   "metadata": {
    "colab": {
     "base_uri": "https://localhost:8080/"
    },
    "id": "A0Z-ZwMnOAIh",
    "outputId": "972e9f34-1ea4-497e-d5e5-d4ba213e971a"
   },
   "outputs": [
    {
     "name": "stdout",
     "output_type": "stream",
     "text": [
      "Accuracy of Model - Ada Boost_RF = 0.9858728557013118\n",
      "Precision of Model - Ada Boost_RF = 0.978796169630643\n",
      "Sensitivity_recall of Model - Ada Boost_RF = 0.992371705963939\n",
      "Specificity of Model - Ada Boost_RF = 0.9797517962116263\n",
      "F1_score of Model - Ada Boost_RF = 0.9855371900826446\n"
     ]
    }
   ],
   "source": [
    "# Precision, recall, accuracy score and F1 score\n",
    "\n",
    "from sklearn import metrics\n",
    "Accuracy_ARF = metrics.accuracy_score(y_test, y_predAR)\n",
    "Precision_ARF = metrics.precision_score(y_test, y_predAR)\n",
    "Sensitivity_recall_ARF = metrics.recall_score(y_test, y_predAR)\n",
    "Specificity_ARF = metrics.recall_score(y_test, y_predAR, pos_label=0)\n",
    "F1_score_ARF = metrics.f1_score(y_test, y_predAR)\n",
    "\n",
    "print(\"Accuracy of Model - Ada Boost_RF =\", Accuracy_ARF)\n",
    "print(\"Precision of Model - Ada Boost_RF =\", Precision_ARF)\n",
    "print(\"Sensitivity_recall of Model - Ada Boost_RF =\", Sensitivity_recall_ARF)\n",
    "print(\"Specificity of Model - Ada Boost_RF =\", Specificity_ARF)\n",
    "print(\"F1_score of Model - Ada Boost_RF =\", F1_score_ARF)"
   ]
  },
  {
   "cell_type": "markdown",
   "metadata": {
    "id": "jx-giOqgoCji"
   },
   "source": [
    "**COMPARISION**"
   ]
  },
  {
   "cell_type": "code",
   "execution_count": 24,
   "metadata": {
    "colab": {
     "base_uri": "https://localhost:8080/",
     "height": 390
    },
    "id": "xhfkWSIUoAw9",
    "outputId": "baf71985-e676-4f80-e227-f57de7ead237"
   },
   "outputs": [
    {
     "data": {
      "text/plain": [
       "Text(0.5, 1.0, 'Accuracy across different Traditional ML Models')"
      ]
     },
     "execution_count": 24,
     "metadata": {},
     "output_type": "execute_result"
    },
    {
     "data": {
      "image/png": "[encoded data removed]",
      "text/plain": [
       "<Figure size 432x288 with 1 Axes>"
      ]
     },
     "metadata": {
      "needs_background": "light"
     },
     "output_type": "display_data"
    }
   ],
   "source": [
    "# Model Prediction Plots Together - Accuracy\n",
    "import seaborn as sns\n",
    "import matplotlib.pyplot as plt\n",
    "\n",
    "models =['Traditional Decision Tree','Traditional Random Forest','Traditional SVM','Traditional AB-Decision Tree', 'Traditional AB-Random Forest']\n",
    "Accuracy_Scores=[Accuracy_D, Accuracy_R, Accuracy_SVM, Accuracy_AD, Accuracy_ARF]\n",
    "\n",
    "\n",
    "df = pd.DataFrame({\"models\": models, \"Accuracy\": Accuracy_Scores})\n",
    "\n",
    "# make barplot and sort bars\n",
    "sns.barplot(x=\"models\",\n",
    "            y=\"Accuracy\", data=df)\n",
    "\n",
    "plt.xticks(rotation=30, ha='right')\n",
    "plt.ylim(0.85, 1)\n",
    "plt.title('Accuracy across different Traditional ML Models',fontsize=20)"
   ]
  },
  {
   "cell_type": "code",
   "execution_count": 25,
   "metadata": {
    "colab": {
     "base_uri": "https://localhost:8080/",
     "height": 390
    },
    "id": "0gqUVRik-fwq",
    "outputId": "e88aeb95-138e-486b-a642-174dab50e7ce"
   },
   "outputs": [
    {
     "data": {
      "text/plain": [
       "Text(0.5, 1.0, 'Precision across different Traditional ML Models')"
      ]
     },
     "execution_count": 25,
     "metadata": {},
     "output_type": "execute_result"
    },
    {
     "data": {
      "image/png": "[encoded data removed]",
      "text/plain": [
       "<Figure size 432x288 with 1 Axes>"
      ]
     },
     "metadata": {
      "needs_background": "light"
     },
     "output_type": "display_data"
    }
   ],
   "source": [
    "# Model Prediction Plots Together - Precision\n",
    "import matplotlib.pyplot as plt\n",
    "\n",
    "models =['Traditional Decision Tree','Traditional Random Forest','Traditional SVM','Traditional AB-Decision Tree', 'Traditional AB-Random Forest']\n",
    "Precision_Scores=[Precision_D, Precision_R, Precision_SVM, Precision_AD, Precision_ARF]\n",
    "\n",
    "df = pd.DataFrame({\"models\": models, \"Precision\": Precision_Scores})\n",
    "\n",
    "# make barplot and sort bars\n",
    "sns.barplot(x=\"models\",\n",
    "            y=\"Precision\", data=df)\n",
    "plt.xticks( rotation=30, ha='right')\n",
    "plt.ylim(0.8, 1)\n",
    "\n",
    "plt.title('Precision across different Traditional ML Models',fontsize=20)"
   ]
  },
  {
   "cell_type": "code",
   "execution_count": 26,
   "metadata": {
    "colab": {
     "base_uri": "https://localhost:8080/",
     "height": 390
    },
    "id": "4FoL6SaG-iLx",
    "outputId": "a34852a1-826c-4b70-837f-1f79b109f21f"
   },
   "outputs": [
    {
     "data": {
      "text/plain": [
       "Text(0.5, 1.0, 'Sensitivity across different Traditional ML Models')"
      ]
     },
     "execution_count": 26,
     "metadata": {},
     "output_type": "execute_result"
    },
    {
     "data": {
      "image/png": "[encoded data removed]",
      "text/plain": [
       "<Figure size 432x288 with 1 Axes>"
      ]
     },
     "metadata": {
      "needs_background": "light"
     },
     "output_type": "display_data"
    }
   ],
   "source": [
    "# Model Prediction Plots Together - Recall\n",
    "import matplotlib.pyplot as plt\n",
    "import seaborn as sns\n",
    "\n",
    "models =['Traditional Decision Tree','Traditional Random Forest','Traditional SVM','Traditional AB-Decision Tree', 'Traditional AB-Random Forest']\n",
    "Sensitivity_recall_Scores=[Sensitivity_recall_D, Sensitivity_recall_R, Sensitivity_recall_SVM, Sensitivity_recall_AD, Sensitivity_recall_ARF]\n",
    "\n",
    "df = pd.DataFrame({\"models\": models, \"Sensitivity\": Sensitivity_recall_Scores})\n",
    "\n",
    "# make barplot and sort bars\n",
    "sns.barplot(x=\"models\",\n",
    "            y=\"Sensitivity\", data=df)\n",
    "\n",
    "plt.ylim(0.92, 1)\n",
    "plt.xticks( rotation=30, ha='right')\n",
    "plt.title('Sensitivity across different Traditional ML Models',fontsize=20)"
   ]
  },
  {
   "cell_type": "code",
   "execution_count": 27,
   "metadata": {
    "colab": {
     "base_uri": "https://localhost:8080/",
     "height": 390
    },
    "id": "lUCT07nhbOgX",
    "outputId": "b0d57a5d-a66f-4621-a7f1-83453a91ae3a"
   },
   "outputs": [
    {
     "data": {
      "text/plain": [
       "Text(0.5, 1.0, 'F1_score across different Traditional ML Models')"
      ]
     },
     "execution_count": 27,
     "metadata": {},
     "output_type": "execute_result"
    },
    {
     "data": {
      "image/png": "[encoded data removed]",
      "text/plain": [
       "<Figure size 432x288 with 1 Axes>"
      ]
     },
     "metadata": {
      "needs_background": "light"
     },
     "output_type": "display_data"
    }
   ],
   "source": [
    "# Model Prediction Plots Together - F1 Score\n",
    "import matplotlib.pyplot as plt\n",
    "import seaborn as sns\n",
    "models =['Traditional Decision Tree','Traditional Random Forest','Traditional SVM','Traditional AB-Decision Tree', 'Traditional AB-Random Forest']\n",
    "\n",
    "F1_score_Scores=[F1_score_D, F1_score_R, F1_score_SVM, F1_score_AD, F1_score_ARF]\n",
    "df = pd.DataFrame({\"models\": models, \"F1_score\": F1_score_Scores})\n",
    "\n",
    "# make barplot and sort bars\n",
    "sns.barplot(x=\"models\",\n",
    "            y=\"F1_score\", data=df)\n",
    "\n",
    "plt.ylim(0.85, 1)\n",
    "plt.xticks(rotation=30, ha='right')\n",
    "plt.title('F1_score across different Traditional ML Models',fontsize=20)\n"
   ]
  }
 ],
 "metadata": {
  "accelerator": "GPU",
  "colab": {
   "provenance": []
  },
  "gpuClass": "standard",
  "kernelspec": {
   "display_name": "Python 3 (ipykernel)",
   "language": "python",
   "name": "python3"
  },
  "language_info": {
   "codemirror_mode": {
    "name": "ipython",
    "version": 3
   },
   "file_extension": ".py",
   "mimetype": "text/x-python",
   "name": "python",
   "nbconvert_exporter": "python",
   "pygments_lexer": "ipython3",
   "version": "3.9.7"
  }
 },
 "nbformat": 4,
 "nbformat_minor": 1
}
