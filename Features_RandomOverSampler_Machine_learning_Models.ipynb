{
 "cells": [
  {
   "cell_type": "code",
   "execution_count": 1,
   "metadata": {
    "colab": {
     "base_uri": "https://localhost:8080/"
    },
    "id": "mZaaBbtt9077",
    "outputId": "62f6b865-9edf-47f0-84a6-8e582566bc9d"
   },
   "outputs": [
    {
     "name": "stdout",
     "output_type": "stream",
     "text": [
      "Mounted at /content/drive\n"
     ]
    }
   ],
   "source": [
    "from google.colab import drive\n",
    "drive.mount('/content/drive')"
   ]
  },
  {
   "cell_type": "code",
   "execution_count": 2,
   "metadata": {
    "id": "fBcgNWhI-A1T"
   },
   "outputs": [],
   "source": [
    "import numpy as np\n",
    "import matplotlib.pyplot as plt\n",
    "from sklearn.metrics import accuracy_score"
   ]
  },
  {
   "cell_type": "code",
   "execution_count": 3,
   "metadata": {
    "colab": {
     "base_uri": "https://localhost:8080/"
    },
    "id": "cuPKT2juAvC0",
    "outputId": "9d43eab1-d71b-487c-c61b-2f22edabed73"
   },
   "outputs": [
    {
     "name": "stdout",
     "output_type": "stream",
     "text": [
      "                                                   Title    Len  \\\n",
      "0      White house asks congress for funding on afgha...   3192   \n",
      "1      Fear of ebola as congolese caught crossing us-...   1315   \n",
      "2      Sunday screening: better brain health: we are ...   1095   \n",
      "3                                Trump's weird fed tweet  14123   \n",
      "4      States pushing back january enrollment deadlin...    233   \n",
      "...                                                  ...    ...   \n",
      "14860  Worrying new coronavirus variants aren't just ...  10096   \n",
      "14861  Lawmakers respond to industry outcry with flex...   1085   \n",
      "14862  Senate dems to try to stop doj's funding for o...   1914   \n",
      "14863  Tn primary heats up: name calling and attack a...   2798   \n",
      "14864  Many considering getting a shingle shot opting...    118   \n",
      "\n",
      "                                                 Content  \\\n",
      "0      President joe biden's aides on tuesday asked c...   \n",
      "1      A public health official in laredo, texas, sai...   \n",
      "2      It appears we really are what we eat. “neuro-n...   \n",
      "3      Important piece from politico’s zachary warmbr...   \n",
      "4      the pro health feature that tracks what the st...   \n",
      "...                                                  ...   \n",
      "14860  The 45-year-old patient had been sick with cor...   \n",
      "14861  an incentive program that worked like an incen...   \n",
      "14862  Senate democrats are going back on offense on ...   \n",
      "14863  Manny sethi is winning. ” sethi, in the ad, a...   \n",
      "14864  “immediately after my double shot, i felt bett...   \n",
      "\n",
      "                                                  Source  Smog        TTR  \\\n",
      "0      https://www.reuters.com/world/us/white-house-a...  13.6  51.428571   \n",
      "1      https://infostormer.com/fear-of-ebola-as-congo...  10.8  62.895928   \n",
      "2      https://beforeitsnews.com/alternative/2021/04/...  15.0  69.886364   \n",
      "3      https://www.politico.com/newsletters/morning-m...  14.6  41.971113   \n",
      "4      https://www.politico.com/tipsheets/politico-pu...   7.8  84.090909   \n",
      "...                                                  ...   ...        ...   \n",
      "14860  https://www.cnn.com/2021/02/05/health/coronavi...  11.9  35.138249   \n",
      "14861  https://www.politico.com/tipsheets/morning-ehe...  12.8  67.403315   \n",
      "14862  https://www.politico.com/story/2019/03/27/sena...  12.4  53.271028   \n",
      "14863  https://conservativedailypost.com/tn-primary-h...  12.4  52.542373   \n",
      "14864  https://fmobserver.com/many-considering-gettin...   0.0  85.000000   \n",
      "\n",
      "       Label  \n",
      "0          0  \n",
      "1          1  \n",
      "2          1  \n",
      "3          0  \n",
      "4          0  \n",
      "...      ...  \n",
      "14860      0  \n",
      "14861      0  \n",
      "14862      0  \n",
      "14863      1  \n",
      "14864      1  \n",
      "\n",
      "[14865 rows x 7 columns]\n"
     ]
    }
   ],
   "source": [
    "# import pandas lib as pd\n",
    "import pandas as pd\n",
    " \n",
    "# read by default 1st sheet of an excel file\n",
    "df = pd.read_excel('/content/drive/MyDrive/Colab Notebooks/Testing FNH dataset/RandomOverSampler_withFeatures.xlsx', 'Sheet1')\n",
    " \n",
    "print(df)\n",
    "df = df.fillna(' ')\n",
    "#df.dropna(inplace = True)\n",
    "df.count()\n",
    "input_array=np.array(df['Content'])"
   ]
  },
  {
   "cell_type": "code",
   "execution_count": 4,
   "metadata": {
    "colab": {
     "base_uri": "https://localhost:8080/"
    },
    "id": "48kuVAiF8_9g",
    "outputId": "eda44935-8aa6-43dd-c7c7-46ef2a245665"
   },
   "outputs": [
    {
     "name": "stderr",
     "output_type": "stream",
     "text": [
      "[nltk_data] Downloading package stopwords to /root/nltk_data...\n",
      "[nltk_data]   Unzipping corpora/stopwords.zip.\n"
     ]
    },
    {
     "data": {
      "text/plain": [
       "True"
      ]
     },
     "execution_count": 4,
     "metadata": {},
     "output_type": "execute_result"
    }
   ],
   "source": [
    "import nltk\n",
    "nltk.download('stopwords')"
   ]
  },
  {
   "cell_type": "code",
   "execution_count": 5,
   "metadata": {
    "id": "0Ea27afaA-yk"
   },
   "outputs": [],
   "source": [
    "import re\n",
    "import nltk\n",
    "#nltk.download('stopwords')\n",
    "from nltk.corpus import stopwords\n",
    "from nltk.stem.porter import PorterStemmer\n",
    "corpus = []\n",
    "for i in range(0, 14865):\n",
    "    review = re.sub('[^a-zA-Z]', ' ', input_array[i])\n",
    "    review = review.lower()\n",
    "    review = review.split()\n",
    "    ps = PorterStemmer()\n",
    "    review = [ps.stem(word) for word in review if not word in set(stopwords.words('english'))]\n",
    "    review = ' '.join(review)\n",
    "    corpus.append(review)"
   ]
  },
  {
   "cell_type": "code",
   "execution_count": 6,
   "metadata": {
    "id": "TqLk7VmxJDuU"
   },
   "outputs": [],
   "source": [
    "column = ['Len', 'Source','Title']\n",
    "df = df.drop(columns=column)"
   ]
  },
  {
   "cell_type": "code",
   "execution_count": 7,
   "metadata": {
    "colab": {
     "base_uri": "https://localhost:8080/",
     "height": 423
    },
    "id": "O5ML5jxaOvw3",
    "outputId": "ff1720ed-6fc6-44df-8d3d-06fbd75e3e65"
   },
   "outputs": [
    {
     "data": {
      "text/html": [
       "\n",
       "  <div id=\"df-59665973-e6b7-40b4-88b9-50dcc4ebbd20\">\n",
       "    <div class=\"colab-df-container\">\n",
       "      <div>\n",
       "<style scoped>\n",
       "    .dataframe tbody tr th:only-of-type {\n",
       "        vertical-align: middle;\n",
       "    }\n",
       "\n",
       "    .dataframe tbody tr th {\n",
       "        vertical-align: top;\n",
       "    }\n",
       "\n",
       "    .dataframe thead th {\n",
       "        text-align: right;\n",
       "    }\n",
       "</style>\n",
       "<table border=\"1\" class=\"dataframe\">\n",
       "  <thead>\n",
       "    <tr style=\"text-align: right;\">\n",
       "      <th></th>\n",
       "      <th>Content</th>\n",
       "      <th>Smog</th>\n",
       "      <th>TTR</th>\n",
       "      <th>Label</th>\n",
       "    </tr>\n",
       "  </thead>\n",
       "  <tbody>\n",
       "    <tr>\n",
       "      <th>0</th>\n",
       "      <td>President joe biden's aides on tuesday asked c...</td>\n",
       "      <td>13.6</td>\n",
       "      <td>51.428571</td>\n",
       "      <td>0</td>\n",
       "    </tr>\n",
       "    <tr>\n",
       "      <th>1</th>\n",
       "      <td>A public health official in laredo, texas, sai...</td>\n",
       "      <td>10.8</td>\n",
       "      <td>62.895928</td>\n",
       "      <td>1</td>\n",
       "    </tr>\n",
       "    <tr>\n",
       "      <th>2</th>\n",
       "      <td>It appears we really are what we eat. “neuro-n...</td>\n",
       "      <td>15.0</td>\n",
       "      <td>69.886364</td>\n",
       "      <td>1</td>\n",
       "    </tr>\n",
       "    <tr>\n",
       "      <th>3</th>\n",
       "      <td>Important piece from politico’s zachary warmbr...</td>\n",
       "      <td>14.6</td>\n",
       "      <td>41.971113</td>\n",
       "      <td>0</td>\n",
       "    </tr>\n",
       "    <tr>\n",
       "      <th>4</th>\n",
       "      <td>the pro health feature that tracks what the st...</td>\n",
       "      <td>7.8</td>\n",
       "      <td>84.090909</td>\n",
       "      <td>0</td>\n",
       "    </tr>\n",
       "    <tr>\n",
       "      <th>...</th>\n",
       "      <td>...</td>\n",
       "      <td>...</td>\n",
       "      <td>...</td>\n",
       "      <td>...</td>\n",
       "    </tr>\n",
       "    <tr>\n",
       "      <th>14860</th>\n",
       "      <td>The 45-year-old patient had been sick with cor...</td>\n",
       "      <td>11.9</td>\n",
       "      <td>35.138249</td>\n",
       "      <td>0</td>\n",
       "    </tr>\n",
       "    <tr>\n",
       "      <th>14861</th>\n",
       "      <td>an incentive program that worked like an incen...</td>\n",
       "      <td>12.8</td>\n",
       "      <td>67.403315</td>\n",
       "      <td>0</td>\n",
       "    </tr>\n",
       "    <tr>\n",
       "      <th>14862</th>\n",
       "      <td>Senate democrats are going back on offense on ...</td>\n",
       "      <td>12.4</td>\n",
       "      <td>53.271028</td>\n",
       "      <td>0</td>\n",
       "    </tr>\n",
       "    <tr>\n",
       "      <th>14863</th>\n",
       "      <td>Manny sethi is winning. ” sethi, in the ad, a...</td>\n",
       "      <td>12.4</td>\n",
       "      <td>52.542373</td>\n",
       "      <td>1</td>\n",
       "    </tr>\n",
       "    <tr>\n",
       "      <th>14864</th>\n",
       "      <td>“immediately after my double shot, i felt bett...</td>\n",
       "      <td>0.0</td>\n",
       "      <td>85.000000</td>\n",
       "      <td>1</td>\n",
       "    </tr>\n",
       "  </tbody>\n",
       "</table>\n",
       "<p>14865 rows × 4 columns</p>\n",
       "</div>\n",
       "      <button class=\"colab-df-convert\" onclick=\"convertToInteractive('df-59665973-e6b7-40b4-88b9-50dcc4ebbd20')\"\n",
       "              title=\"Convert this dataframe to an interactive table.\"\n",
       "              style=\"display:none;\">\n",
       "        \n",
       "  <svg xmlns=\"http://www.w3.org/2000/svg\" height=\"24px\"viewBox=\"0 0 24 24\"\n",
       "       width=\"24px\">\n",
       "    <path d=\"M0 0h24v24H0V0z\" fill=\"none\"/>\n",
       "    <path d=\"M18.56 5.44l.94 2.06.94-2.06 2.06-.94-2.06-.94-.94-2.06-.94 2.06-2.06.94zm-11 1L8.5 8.5l.94-2.06 2.06-.94-2.06-.94L8.5 2.5l-.94 2.06-2.06.94zm10 10l.94 2.06.94-2.06 2.06-.94-2.06-.94-.94-2.06-.94 2.06-2.06.94z\"/><path d=\"M17.41 7.96l-1.37-1.37c-.4-.4-.92-.59-1.43-.59-.52 0-1.04.2-1.43.59L10.3 9.45l-7.72 7.72c-.78.78-.78 2.05 0 2.83L4 21.41c.39.39.9.59 1.41.59.51 0 1.02-.2 1.41-.59l7.78-7.78 2.81-2.81c.8-.78.8-2.07 0-2.86zM5.41 20L4 18.59l7.72-7.72 1.47 1.35L5.41 20z\"/>\n",
       "  </svg>\n",
       "      </button>\n",
       "      \n",
       "  <style>\n",
       "    .colab-df-container {\n",
       "      display:flex;\n",
       "      flex-wrap:wrap;\n",
       "      gap: 12px;\n",
       "    }\n",
       "\n",
       "    .colab-df-convert {\n",
       "      background-color: #E8F0FE;\n",
       "      border: none;\n",
       "      border-radius: 50%;\n",
       "      cursor: pointer;\n",
       "      display: none;\n",
       "      fill: #1967D2;\n",
       "      height: 32px;\n",
       "      padding: 0 0 0 0;\n",
       "      width: 32px;\n",
       "    }\n",
       "\n",
       "    .colab-df-convert:hover {\n",
       "      background-color: #E2EBFA;\n",
       "      box-shadow: 0px 1px 2px rgba(60, 64, 67, 0.3), 0px 1px 3px 1px rgba(60, 64, 67, 0.15);\n",
       "      fill: #174EA6;\n",
       "    }\n",
       "\n",
       "    [theme=dark] .colab-df-convert {\n",
       "      background-color: #3B4455;\n",
       "      fill: #D2E3FC;\n",
       "    }\n",
       "\n",
       "    [theme=dark] .colab-df-convert:hover {\n",
       "      background-color: #434B5C;\n",
       "      box-shadow: 0px 1px 3px 1px rgba(0, 0, 0, 0.15);\n",
       "      filter: drop-shadow(0px 1px 2px rgba(0, 0, 0, 0.3));\n",
       "      fill: #FFFFFF;\n",
       "    }\n",
       "  </style>\n",
       "\n",
       "      <script>\n",
       "        const buttonEl =\n",
       "          document.querySelector('#df-59665973-e6b7-40b4-88b9-50dcc4ebbd20 button.colab-df-convert');\n",
       "        buttonEl.style.display =\n",
       "          google.colab.kernel.accessAllowed ? 'block' : 'none';\n",
       "\n",
       "        async function convertToInteractive(key) {\n",
       "          const element = document.querySelector('#df-59665973-e6b7-40b4-88b9-50dcc4ebbd20');\n",
       "          const dataTable =\n",
       "            await google.colab.kernel.invokeFunction('convertToInteractive',\n",
       "                                                     [key], {});\n",
       "          if (!dataTable) return;\n",
       "\n",
       "          const docLinkHtml = 'Like what you see? Visit the ' +\n",
       "            '<a target=\"_blank\" href=https://colab.research.google.com/notebooks/data_table.ipynb>data table notebook</a>'\n",
       "            + ' to learn more about interactive tables.';\n",
       "          element.innerHTML = '';\n",
       "          dataTable['output_type'] = 'display_data';\n",
       "          await google.colab.output.renderOutput(dataTable, element);\n",
       "          const docLink = document.createElement('div');\n",
       "          docLink.innerHTML = docLinkHtml;\n",
       "          element.appendChild(docLink);\n",
       "        }\n",
       "      </script>\n",
       "    </div>\n",
       "  </div>\n",
       "  "
      ],
      "text/plain": [
       "                                                 Content  Smog        TTR  \\\n",
       "0      President joe biden's aides on tuesday asked c...  13.6  51.428571   \n",
       "1      A public health official in laredo, texas, sai...  10.8  62.895928   \n",
       "2      It appears we really are what we eat. “neuro-n...  15.0  69.886364   \n",
       "3      Important piece from politico’s zachary warmbr...  14.6  41.971113   \n",
       "4      the pro health feature that tracks what the st...   7.8  84.090909   \n",
       "...                                                  ...   ...        ...   \n",
       "14860  The 45-year-old patient had been sick with cor...  11.9  35.138249   \n",
       "14861  an incentive program that worked like an incen...  12.8  67.403315   \n",
       "14862  Senate democrats are going back on offense on ...  12.4  53.271028   \n",
       "14863  Manny sethi is winning. ” sethi, in the ad, a...  12.4  52.542373   \n",
       "14864  “immediately after my double shot, i felt bett...   0.0  85.000000   \n",
       "\n",
       "       Label  \n",
       "0          0  \n",
       "1          1  \n",
       "2          1  \n",
       "3          0  \n",
       "4          0  \n",
       "...      ...  \n",
       "14860      0  \n",
       "14861      0  \n",
       "14862      0  \n",
       "14863      1  \n",
       "14864      1  \n",
       "\n",
       "[14865 rows x 4 columns]"
      ]
     },
     "execution_count": 7,
     "metadata": {},
     "output_type": "execute_result"
    }
   ],
   "source": [
    "df\n"
   ]
  },
  {
   "cell_type": "code",
   "execution_count": 8,
   "metadata": {
    "colab": {
     "base_uri": "https://localhost:8080/"
    },
    "id": "yiWVf5rTBwiV",
    "outputId": "de5cf76a-684f-4654-c338-685c7f9072b4"
   },
   "outputs": [
    {
     "name": "stdout",
     "output_type": "stream",
     "text": [
      "14865\n",
      "14865\n"
     ]
    }
   ],
   "source": [
    "from sklearn.feature_extraction.text import CountVectorizer\n",
    "cv = CountVectorizer(max_features = 15000)\n",
    "X = cv.fit_transform(corpus).toarray()\n",
    "y = df.iloc[0:14865, 3].values\n",
    "\n",
    "print(len(X))\n",
    "print(len(y))"
   ]
  },
  {
   "cell_type": "code",
   "execution_count": 9,
   "metadata": {
    "colab": {
     "base_uri": "https://localhost:8080/"
    },
    "id": "dbOKGKWdVY4k",
    "outputId": "70ac01e5-84d7-4f6c-9c6d-1503f4573953"
   },
   "outputs": [
    {
     "name": "stdout",
     "output_type": "stream",
     "text": [
      "[[0 0 0 ... 0 0 0]\n",
      " [0 0 0 ... 0 0 0]\n",
      " [0 0 0 ... 0 0 0]\n",
      " ...\n",
      " [0 0 0 ... 0 0 0]\n",
      " [0 0 0 ... 0 0 0]\n",
      " [0 0 0 ... 0 0 0]]\n"
     ]
    }
   ],
   "source": [
    "print(X)"
   ]
  },
  {
   "cell_type": "code",
   "execution_count": 10,
   "metadata": {
    "colab": {
     "base_uri": "https://localhost:8080/"
    },
    "id": "LvPX5kIkBfNe",
    "outputId": "e4d3d75c-461b-4c8f-fdb0-d4b2fa60fee2"
   },
   "outputs": [
    {
     "name": "stdout",
     "output_type": "stream",
     "text": [
      "[0 1 0 ... 0 1 0] \n",
      " [[0 0 0 ... 0 0 0]\n",
      " [0 0 0 ... 0 0 0]\n",
      " [0 0 0 ... 0 0 0]\n",
      " ...\n",
      " [0 0 0 ... 0 0 0]\n",
      " [0 0 0 ... 0 0 0]\n",
      " [0 0 0 ... 0 0 0]]\n"
     ]
    }
   ],
   "source": [
    "# Spliting data - withom random shuffle\n",
    "from sklearn.model_selection import train_test_split\n",
    "X_train, X_test, y_train, y_test = train_test_split(X, y, test_size = 0.20, random_state = 0)\n",
    "print(y_test,\"\\n\",X_test)"
   ]
  },
  {
   "cell_type": "markdown",
   "metadata": {
    "id": "ai7CQvEGJ2JS"
   },
   "source": [
    "**Decision Tree**"
   ]
  },
  {
   "cell_type": "code",
   "execution_count": 11,
   "metadata": {
    "colab": {
     "base_uri": "https://localhost:8080/"
    },
    "id": "jmnaVMMpBgdz",
    "outputId": "ea6b9f92-0cf8-4b7f-e46c-c59a42fcb17c"
   },
   "outputs": [
    {
     "name": "stdout",
     "output_type": "stream",
     "text": [
      "[[1365  187]\n",
      " [  14 1407]]\n"
     ]
    }
   ],
   "source": [
    "from sklearn.tree import DecisionTreeClassifier\n",
    "classifier2 = DecisionTreeClassifier(criterion = 'entropy', random_state = 0)\n",
    "classifier2.fit(X_train, y_train)\n",
    "\n",
    "# Predicting the Test set results\n",
    "y_predD = classifier2.predict(X_test)\n",
    "\n",
    "# Making the Confusion Matrix\n",
    "from sklearn.metrics import confusion_matrix\n",
    "cm2 = confusion_matrix(y_test, y_predD)\n",
    "\n",
    "print(cm2)"
   ]
  },
  {
   "cell_type": "code",
   "execution_count": 12,
   "metadata": {
    "colab": {
     "base_uri": "https://localhost:8080/"
    },
    "id": "dF-ojoq23z1X",
    "outputId": "3ddf882d-dd2a-424f-a7fa-2526b79bf925"
   },
   "outputs": [
    {
     "name": "stdout",
     "output_type": "stream",
     "text": [
      "Accuracy of Model - Decision Tree = 0.9323915237134208\n",
      "Precision of Model - Decision Tree = 0.882685069008783\n",
      "Sensitivity_recall of Model - Decision Tree = 0.9901477832512315\n",
      "Specificity of Model - Decision Tree = 0.8795103092783505\n",
      "F1_score of Model - Decision Tree = 0.9333333333333335\n"
     ]
    }
   ],
   "source": [
    "# Precision, recall, accuracy score and F1 score\n",
    "\n",
    "from sklearn import metrics\n",
    "Accuracy_D = metrics.accuracy_score(y_test, y_predD)\n",
    "Precision_D = metrics.precision_score(y_test, y_predD)\n",
    "Sensitivity_recall_D = metrics.recall_score(y_test, y_predD)\n",
    "Specificity_D = metrics.recall_score(y_test, y_predD, pos_label=0)\n",
    "F1_score_D = metrics.f1_score(y_test, y_predD)\n",
    "\n",
    "print(\"Accuracy of Model - Decision Tree =\", Accuracy_D)\n",
    "print(\"Precision of Model - Decision Tree =\", Precision_D)\n",
    "print(\"Sensitivity_recall of Model - Decision Tree =\", Sensitivity_recall_D)\n",
    "print(\"Specificity of Model - Decision Tree =\", Specificity_D)\n",
    "print(\"F1_score of Model - Decision Tree =\", F1_score_D)\n"
   ]
  },
  {
   "cell_type": "markdown",
   "metadata": {
    "id": "_05exG5VJ9F2"
   },
   "source": [
    "**Random Forest**"
   ]
  },
  {
   "cell_type": "code",
   "execution_count": 13,
   "metadata": {
    "colab": {
     "base_uri": "https://localhost:8080/"
    },
    "id": "d1n_NX9wKDmA",
    "outputId": "92c6899f-e865-4b09-88c4-308bb2b82d38"
   },
   "outputs": [
    {
     "name": "stdout",
     "output_type": "stream",
     "text": [
      "[[1466   86]\n",
      " [  11 1410]]\n"
     ]
    }
   ],
   "source": [
    "from sklearn.ensemble import RandomForestClassifier\n",
    "classifier3 = RandomForestClassifier(n_estimators = 10, criterion = 'entropy', random_state = 0)\n",
    "classifier3.fit(X_train, y_train)\n",
    "\n",
    "# Predicting the Test set results\n",
    "y_predR = classifier3.predict(X_test)\n",
    "\n",
    "# Making the Confusion Matrix\n",
    "from sklearn.metrics import confusion_matrix\n",
    "cm3 = confusion_matrix(y_test, y_predR)\n",
    "\n",
    "\n",
    "print(cm3)"
   ]
  },
  {
   "cell_type": "code",
   "execution_count": 14,
   "metadata": {
    "colab": {
     "base_uri": "https://localhost:8080/"
    },
    "id": "3M5QS7mo4RZg",
    "outputId": "7a4e1856-b7a9-4ef0-ef27-f33028ac3662"
   },
   "outputs": [
    {
     "name": "stdout",
     "output_type": "stream",
     "text": [
      "Accuracy of Model - Random Forest = 0.9673730238816011\n",
      "Precision of Model - Random Forest = 0.9425133689839572\n",
      "Sensitivity_recall of Model - Random Forest = 0.9922589725545391\n",
      "Specificity of Model - Random Forest = 0.9445876288659794\n",
      "F1_score of Model - Random Forest = 0.9667466575248543\n"
     ]
    }
   ],
   "source": [
    "# Precision, recall, accuracy score and F1 score\n",
    "\n",
    "from sklearn import metrics\n",
    "Accuracy_R = metrics.accuracy_score(y_test, y_predR)\n",
    "Precision_R = metrics.precision_score(y_test, y_predR)\n",
    "Sensitivity_recall_R = metrics.recall_score(y_test, y_predR)\n",
    "Specificity_R = metrics.recall_score(y_test, y_predR, pos_label=0)\n",
    "F1_score_R = metrics.f1_score(y_test, y_predR)\n",
    "\n",
    "print(\"Accuracy of Model - Random Forest =\", Accuracy_R)\n",
    "print(\"Precision of Model - Random Forest =\", Precision_R)\n",
    "print(\"Sensitivity_recall of Model - Random Forest =\", Sensitivity_recall_R)\n",
    "print(\"Specificity of Model - Random Forest =\", Specificity_R)\n",
    "print(\"F1_score of Model - Random Forest =\", F1_score_R)"
   ]
  },
  {
   "cell_type": "markdown",
   "metadata": {
    "id": "TA9GEWhuKF5m"
   },
   "source": [
    "**SVM**"
   ]
  },
  {
   "cell_type": "code",
   "execution_count": 15,
   "metadata": {
    "colab": {
     "base_uri": "https://localhost:8080/"
    },
    "id": "_d_cMVpdKJYP",
    "outputId": "47af120c-00d2-4e13-be2e-403c20bea2b9"
   },
   "outputs": [
    {
     "name": "stdout",
     "output_type": "stream",
     "text": [
      "[[1378  174]\n",
      " [   0 1421]]\n"
     ]
    }
   ],
   "source": [
    "from sklearn.svm import SVC\n",
    "classifier = SVC(kernel = 'linear', random_state = 0)\n",
    "classifier.fit(X_train, y_train)\n",
    "\n",
    "# Predicting the Test set results\n",
    "y_predSVM = classifier.predict(X_test)\n",
    "\n",
    "# Making the Confusion Matrix\n",
    "from sklearn.metrics import confusion_matrix\n",
    "cm5 = confusion_matrix(y_test, y_predSVM)\n",
    "\n",
    "print(cm5)"
   ]
  },
  {
   "cell_type": "code",
   "execution_count": 16,
   "metadata": {
    "colab": {
     "base_uri": "https://localhost:8080/"
    },
    "id": "3VLi5-pQ4lKw",
    "outputId": "9f818026-f8bb-4507-887b-cd50a69a3431"
   },
   "outputs": [
    {
     "name": "stdout",
     "output_type": "stream",
     "text": [
      "Accuracy of Model - SVM = 0.941473259334006\n",
      "Precision of Model - SVM = 0.8909090909090909\n",
      "Sensitivity_recall of Model - SVM = 1.0\n",
      "Specificity of Model - SVM = 0.8878865979381443\n",
      "F1_score of Model - SVM = 0.9423076923076923\n"
     ]
    }
   ],
   "source": [
    "# Precision, recall, accuracy score and F1 score\n",
    "\n",
    "from sklearn import metrics\n",
    "Accuracy_SVM = metrics.accuracy_score(y_test, y_predSVM)\n",
    "Precision_SVM = metrics.precision_score(y_test, y_predSVM)\n",
    "Sensitivity_recall_SVM = metrics.recall_score(y_test, y_predSVM)\n",
    "Specificity_SVM = metrics.recall_score(y_test, y_predSVM, pos_label=0)\n",
    "F1_score_SVM = metrics.f1_score(y_test, y_predSVM)\n",
    "\n",
    "print(\"Accuracy of Model - SVM =\", Accuracy_SVM)\n",
    "print(\"Precision of Model - SVM =\", Precision_SVM)\n",
    "print(\"Sensitivity_recall of Model - SVM =\", Sensitivity_recall_SVM)\n",
    "print(\"Specificity of Model - SVM =\", Specificity_SVM)\n",
    "print(\"F1_score of Model - SVM =\", F1_score_SVM)"
   ]
  },
  {
   "cell_type": "markdown",
   "metadata": {
    "id": "hfsjxOiBJgr1"
   },
   "source": [
    "**Ada Boost with Decision Tree**"
   ]
  },
  {
   "cell_type": "code",
   "execution_count": 17,
   "metadata": {
    "id": "a9CIuaooJchF"
   },
   "outputs": [],
   "source": [
    "from sklearn.ensemble import AdaBoostClassifier\n",
    "\n",
    "adaboost_clf_D = AdaBoostClassifier(\n",
    "    DecisionTreeClassifier(max_depth=1), n_estimators=200,\n",
    "    algorithm=\"SAMME.R\", learning_rate=0.5, random_state=42)\n",
    "adaboost_clf_D.fit(X_train, y_train)\n",
    "\n",
    "\n",
    "y_predAD = adaboost_clf_D.predict(X_test)"
   ]
  },
  {
   "cell_type": "code",
   "execution_count": 18,
   "metadata": {
    "colab": {
     "base_uri": "https://localhost:8080/"
    },
    "id": "oEAlnnSV4y_a",
    "outputId": "30d78ffb-e7e7-4455-8a6a-a3a06ffe148c"
   },
   "outputs": [
    {
     "name": "stdout",
     "output_type": "stream",
     "text": [
      "Accuracy of Model - Ada Boost = 0.8832828792465524\n",
      "Precision of Model - Ada Boost = 0.8420382165605096\n",
      "Sensitivity_recall of Model - Ada Boost = 0.9303307529908516\n",
      "Specificity of Model - Ada Boost = 0.8402061855670103\n",
      "F1_score of Model - Ada Boost = 0.8839852892009361\n"
     ]
    }
   ],
   "source": [
    "# Precision, recall, accuracy score and F1 score\n",
    "\n",
    "from sklearn import metrics\n",
    "Accuracy_AD = metrics.accuracy_score(y_test, y_predAD)\n",
    "Precision_AD = metrics.precision_score(y_test, y_predAD)\n",
    "Sensitivity_recall_AD = metrics.recall_score(y_test, y_predAD)\n",
    "Specificity_AD = metrics.recall_score(y_test, y_predAD, pos_label=0)\n",
    "F1_score_AD = metrics.f1_score(y_test, y_predAD)\n",
    "\n",
    "print(\"Accuracy of Model - Ada Boost =\", Accuracy_AD)\n",
    "print(\"Precision of Model - Ada Boost =\", Precision_AD)\n",
    "print(\"Sensitivity_recall of Model - Ada Boost =\", Sensitivity_recall_AD)\n",
    "print(\"Specificity of Model - Ada Boost =\", Specificity_AD)\n",
    "print(\"F1_score of Model - Ada Boost =\", F1_score_AD)"
   ]
  },
  {
   "cell_type": "markdown",
   "metadata": {
    "id": "1-KTtixqNvMF"
   },
   "source": [
    "**Ada Boost with Random forest**"
   ]
  },
  {
   "cell_type": "code",
   "execution_count": 19,
   "metadata": {
    "id": "gvWzX8VnNbgZ"
   },
   "outputs": [],
   "source": [
    "adaboost_clf_RF = AdaBoostClassifier(\n",
    "    RandomForestClassifier(n_estimators = 10, criterion = 'entropy', random_state = 0))\n",
    "adaboost_clf_RF.fit(X_train, y_train)\n",
    "\n",
    "y_predAR = adaboost_clf_RF.predict(X_test)"
   ]
  },
  {
   "cell_type": "code",
   "execution_count": 20,
   "metadata": {
    "colab": {
     "base_uri": "https://localhost:8080/"
    },
    "id": "A0Z-ZwMnOAIh",
    "outputId": "e28db029-a7f2-4e3f-d5c0-8bcbf36ac448"
   },
   "outputs": [
    {
     "name": "stdout",
     "output_type": "stream",
     "text": [
      "Accuracy of Model - Ada Boost_RF = 0.9902455432223344\n",
      "Precision of Model - Ada Boost_RF = 0.989451476793249\n",
      "Sensitivity_recall of Model - Ada Boost_RF = 0.9901477832512315\n",
      "Specificity of Model - Ada Boost_RF = 0.9903350515463918\n",
      "F1_score of Model - Ada Boost_RF = 0.9897995075624341\n"
     ]
    }
   ],
   "source": [
    "# Precision, recall, accuracy score and F1 score\n",
    "\n",
    "from sklearn import metrics\n",
    "Accuracy_ARF = metrics.accuracy_score(y_test, y_predAR)\n",
    "Precision_ARF = metrics.precision_score(y_test, y_predAR)\n",
    "Sensitivity_recall_ARF = metrics.recall_score(y_test, y_predAR)\n",
    "Specificity_ARF = metrics.recall_score(y_test, y_predAR, pos_label=0)\n",
    "F1_score_ARF = metrics.f1_score(y_test, y_predAR)\n",
    "\n",
    "print(\"Accuracy of Model - Ada Boost_RF =\", Accuracy_ARF)\n",
    "print(\"Precision of Model - Ada Boost_RF =\", Precision_ARF)\n",
    "print(\"Sensitivity_recall of Model - Ada Boost_RF =\", Sensitivity_recall_ARF)\n",
    "print(\"Specificity of Model - Ada Boost_RF =\", Specificity_ARF)\n",
    "print(\"F1_score of Model - Ada Boost_RF =\", F1_score_ARF)"
   ]
  },
  {
   "cell_type": "markdown",
   "metadata": {
    "id": "jx-giOqgoCji"
   },
   "source": [
    "**COMPARISION**"
   ]
  },
  {
   "cell_type": "code",
   "execution_count": 22,
   "metadata": {
    "colab": {
     "base_uri": "https://localhost:8080/",
     "height": 362
    },
    "id": "xhfkWSIUoAw9",
    "outputId": "4b30b7f0-43b2-41c5-aecc-8ebb16d03756"
   },
   "outputs": [
    {
     "data": {
      "text/plain": [
       "Text(0.5, 1.0, 'Accuracy across different Models')"
      ]
     },
     "execution_count": 22,
     "metadata": {},
     "output_type": "execute_result"
    },
    {
     "data": {
      "image/png": "[encoded data removed]",
      "text/plain": [
       "<Figure size 432x288 with 1 Axes>"
      ]
     },
     "metadata": {
      "needs_background": "light"
     },
     "output_type": "display_data"
    }
   ],
   "source": [
    "# Model Prediction Plots Together - Accuracy\n",
    "import seaborn as sns\n",
    "import matplotlib.pyplot as plt\n",
    "\n",
    "models =['Decision Tree','Random Forest','SVM','AB-Decision Tree', 'AB-Random Forest']\n",
    "Accuracy_Scores=[Accuracy_D, Accuracy_R, Accuracy_SVM, Accuracy_AD, Accuracy_ARF]\n",
    "\n",
    "\n",
    "df = pd.DataFrame({\"models\": models, \"Accuracy\": Accuracy_Scores})\n",
    "\n",
    "# make barplot and sort bars\n",
    "sns.barplot(x=\"models\",\n",
    "            y=\"Accuracy\", data=df)\n",
    "\n",
    "plt.xticks(rotation=30, ha='right')\n",
    "plt.ylim(0.85, 1)\n",
    "plt.title('Accuracy across different Models',fontsize=20)"
   ]
  },
  {
   "cell_type": "code",
   "execution_count": 23,
   "metadata": {
    "colab": {
     "base_uri": "https://localhost:8080/",
     "height": 362
    },
    "id": "0gqUVRik-fwq",
    "outputId": "641aae0b-103d-4e2d-caa9-1e4bd315a44f"
   },
   "outputs": [
    {
     "data": {
      "text/plain": [
       "Text(0.5, 1.0, 'Precision across different Models')"
      ]
     },
     "execution_count": 23,
     "metadata": {},
     "output_type": "execute_result"
    },
    {
     "data": {
      "image/png": "[encoded data removed]",
      "text/plain": [
       "<Figure size 432x288 with 1 Axes>"
      ]
     },
     "metadata": {
      "needs_background": "light"
     },
     "output_type": "display_data"
    }
   ],
   "source": [
    "# Model Prediction Plots Together - Precision\n",
    "import matplotlib.pyplot as plt\n",
    "\n",
    "models =['Decision Tree','Random Forest','SVM','AB-Decision Tree', 'AB-Random Forest']\n",
    "Precision_Scores=[Precision_D, Precision_R, Precision_SVM, Precision_AD, Precision_ARF]\n",
    "\n",
    "df = pd.DataFrame({\"models\": models, \"Precision\": Precision_Scores})\n",
    "\n",
    "# make barplot and sort bars\n",
    "sns.barplot(x=\"models\",\n",
    "            y=\"Precision\", data=df)\n",
    "plt.xticks( rotation=30, ha='right')\n",
    "plt.ylim(0.8, 1)\n",
    "\n",
    "plt.title('Precision across different Models',fontsize=20)"
   ]
  },
  {
   "cell_type": "code",
   "execution_count": 24,
   "metadata": {
    "colab": {
     "base_uri": "https://localhost:8080/",
     "height": 362
    },
    "id": "4FoL6SaG-iLx",
    "outputId": "8bee15e9-1e9f-4a8c-92b5-4c9481b23929"
   },
   "outputs": [
    {
     "data": {
      "text/plain": [
       "Text(0.5, 1.0, 'Sensitivity across different Models')"
      ]
     },
     "execution_count": 24,
     "metadata": {},
     "output_type": "execute_result"
    },
    {
     "data": {
      "image/png": "[encoded data removed]",
      "text/plain": [
       "<Figure size 432x288 with 1 Axes>"
      ]
     },
     "metadata": {
      "needs_background": "light"
     },
     "output_type": "display_data"
    }
   ],
   "source": [
    "# Model Prediction Plots Together - Recall\n",
    "import matplotlib.pyplot as plt\n",
    "import seaborn as sns\n",
    "\n",
    "models =['Decision Tree','Random Forest','SVM','AB-Decision Tree', 'AB-Random Forest']\n",
    "Sensitivity_recall_Scores=[Sensitivity_recall_D, Sensitivity_recall_R, Sensitivity_recall_SVM, Sensitivity_recall_AD, Sensitivity_recall_ARF]\n",
    "\n",
    "df = pd.DataFrame({\"models\": models, \"Sensitivity\": Sensitivity_recall_Scores})\n",
    "\n",
    "# make barplot and sort bars\n",
    "sns.barplot(x=\"models\",\n",
    "            y=\"Sensitivity\", data=df)\n",
    "\n",
    "plt.ylim(0.92, 1)\n",
    "plt.xticks( rotation=30, ha='right')\n",
    "plt.title('Sensitivity across different Models',fontsize=20)"
   ]
  },
  {
   "cell_type": "code",
   "execution_count": 25,
   "metadata": {
    "colab": {
     "base_uri": "https://localhost:8080/",
     "height": 362
    },
    "id": "lUCT07nhbOgX",
    "outputId": "0c6d7173-e9b2-4343-ad79-b6748acc6306"
   },
   "outputs": [
    {
     "data": {
      "text/plain": [
       "Text(0.5, 1.0, 'F1_score across different Models')"
      ]
     },
     "execution_count": 25,
     "metadata": {},
     "output_type": "execute_result"
    },
    {
     "data": {
      "image/png": "[encoded data removed]",
      "text/plain": [
       "<Figure size 432x288 with 1 Axes>"
      ]
     },
     "metadata": {
      "needs_background": "light"
     },
     "output_type": "display_data"
    }
   ],
   "source": [
    "# Model Prediction Plots Together - F1 Score\n",
    "import matplotlib.pyplot as plt\n",
    "import seaborn as sns\n",
    "models =['Decision Tree','Random Forest','SVM','AB-Decision Tree', 'AB-Random Forest']\n",
    "\n",
    "F1_score_Scores=[F1_score_D, F1_score_R, F1_score_SVM, F1_score_AD, F1_score_ARF]\n",
    "df = pd.DataFrame({\"models\": models, \"F1_score\": F1_score_Scores})\n",
    "\n",
    "# make barplot and sort bars\n",
    "sns.barplot(x=\"models\",\n",
    "            y=\"F1_score\", data=df)\n",
    "\n",
    "plt.ylim(0.85, 1)\n",
    "plt.xticks(rotation=30, ha='right')\n",
    "plt.title('F1_score across different Models',fontsize=20)\n"
   ]
  }
 ],
 "metadata": {
  "accelerator": "GPU",
  "colab": {
   "provenance": []
  },
  "gpuClass": "standard",
  "kernelspec": {
   "display_name": "Python 3 (ipykernel)",
   "language": "python",
   "name": "python3"
  },
  "language_info": {
   "codemirror_mode": {
    "name": "ipython",
    "version": 3
   },
   "file_extension": ".py",
   "mimetype": "text/x-python",
   "name": "python",
   "nbconvert_exporter": "python",
   "pygments_lexer": "ipython3",
   "version": "3.9.7"
  }
 },
 "nbformat": 4,
 "nbformat_minor": 1
}
